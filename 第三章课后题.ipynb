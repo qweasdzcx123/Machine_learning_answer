{
 "cells": [
  {
   "cell_type": "markdown",
   "metadata": {},
   "source": [
    "### **3.1**  试分析什么情形下式3.2中不必考虑偏置项b"
   ]
  },
  {
   "cell_type": "markdown",
   "metadata": {},
   "source": [
    "式3.2 f(x)=ωTx+b 中，ωT 和b有各自的意义，简单来说，ωT 决定学习得到模型(直线、平面)的方向，而b则决定截距，当学习得到的模型恰好经过原点时，可以不考虑偏置项b。偏置项b实质上就是体现拟合模型整体上的浮动，可以看做是其它变量留下的偏差的线性修正，因此一般情况下是需要考虑偏置项的。但如果对数据集进行了归一化处理，即对目标变量减去均值向量，此时就不需要考虑偏置项了。"
   ]
  },
  {
   "cell_type": "markdown",
   "metadata": {},
   "source": [
    "### **3.2** 试证明，对于参数w，对率回归的目标函数(3.18)式非凸的，但其对树似然函数(3.27)式凸的\n"
   ]
  },
  {
   "cell_type": "markdown",
   "metadata": {},
   "source": [
    "对区间[a,b]上定义的函数f(x)，若它对区间中任意两点x1，x2均有f(x1+x22)≤f(x1)+f(x2)2，则称f(x)为区间[a,b]上的凸函数。对于实数集上的函数，可通过二阶导数来判断：若二阶导数在区间上非负，则称为凸函数，在区间上恒大于零，则称为严格凸函数。\n",
    "\n",
    "对于式3.18 y=11+e−(ωTx+b)，有\n",
    "\n",
    "dy/dωT=1(1+e−(ωTx+b))2e−(ωTx+b)(−x)=(−x)11+e−(ωTx+b)(1−11+e−(ωTx+b))=xy(y−1)=x(y2−y)\n",
    "\n",
    "d/dωT(dy/dωT)=x(2y−1)(dy/dωT)=x2y(2y−1)(y−1)\n",
    "\n",
    "其中，y的取值范围是(0,1)，不难看出二阶导有正有负，所以该函数非凸"
   ]
  },
  {
   "cell_type": "markdown",
   "metadata": {},
   "source": [
    "### **3.3** 编程实现对率回归并给出西瓜数据集3.0a上的结果"
   ]
  },
  {
   "cell_type": "markdown",
   "metadata": {},
   "source": [
    "![西瓜](https://img2018.cnblogs.com/blog/1647944/201904/1647944-20190414154709340-1182795231.png)"
   ]
  },
  {
   "cell_type": "markdown",
   "metadata": {},
   "source": [
    "```\n",
    "import numpy as np\n",
    "import matplotlib.pyplot as plt\n",
    "import pandas as pd\n",
    "from sklearn import model_selection\n",
    "from sklearn.linear_model import LogisticRegression\n",
    "from sklearn import metrics\n",
    "dataset = pd.read_csv('/home/zwt/Desktop/watermelon3a.csv')\n",
    "#数据预处理\n",
    "X = dataset[['密度','含糖率']]\n",
    "Y = dataset['好瓜']\n",
    "good_melon = dataset[dataset['好瓜'] == 1]\n",
    "bad_melon = dataset[dataset['好瓜'] == 0]\n",
    "#画图\n",
    "f1 = plt.figure(1)\n",
    "plt.title('watermelon_3a')\n",
    "plt.xlabel('density')\n",
    "plt.ylabel('radio_sugar')\n",
    "plt.xlim(0,1)\n",
    "plt.ylim(0,1)\n",
    "plt.scatter(bad_melon['密度'],bad_melon['含糖率'],marker='o',color='r',s=100,label='bad')\n",
    "plt.scatter(good_melon['密度'],good_melon['含糖率'],marker='o',color='g',s=100,label='good')\n",
    "plt.legend(loc='upper right')\n",
    "#分割训练集和验证集\n",
    "X_train,X_test,Y_train,Y_test = model_selection.train_test_split(X,Y,test_size=0.5,random_state=0)\n",
    "#训练\n",
    "log_model = LogisticRegression()\n",
    "log_model.fit(X_train,Y_train)\n",
    "#验证\n",
    "Y_pred = log_model.predict(X_test)\n",
    "#汇总\n",
    "print(metrics.confusion_matrix(Y_test, Y_pred))\n",
    "print(metrics.classification_report(Y_test, Y_pred, target_names=['Bad','Good']))\n",
    "print(log_model.coef_)\n",
    "theta1, theta2 = log_model.coef_[0][0], log_model.coef_[0][1]\n",
    "X_pred = np.linspace(0,1,100)\n",
    "line_pred = theta1 + theta2 * X_pred\n",
    "plt.plot(X_pred, line_pred)\n",
    "plt.show()\n",
    "```"
   ]
  },
  {
   "cell_type": "markdown",
   "metadata": {},
   "source": [
    "![结果](https://img2018.cnblogs.com/blog/1647944/201904/1647944-20190414155110806-273826402.png)"
   ]
  },
  {
   "cell_type": "markdown",
   "metadata": {},
   "source": [
    "state|precision|recal|f1-score|support\n",
    ":--|--|:--:|:--:|--\n",
    "Bad|0.75 | 0.60|0.67|5\n",
    "Good  | 0.60| 0.75  |    0.67       |  4\n",
    "micro avg |0.67 |  0.67  |    0.67   |    9\n",
    "macro avg|0.68 |   0.68      |0.67      |   9\n",
    "weighted avg     |  0.68    |  0.67  |    0.67|    9"
   ]
  },
  {
   "cell_type": "markdown",
   "metadata": {},
   "source": [
    "### **3.4** 选择两个ucl数据集，比较１０折交叉验证法和留一法锁估计出的对率回归的错误率"
   ]
  },
  {
   "cell_type": "code",
   "execution_count": 7,
   "metadata": {},
   "outputs": [],
   "source": [
    "fr = open('winequality-red.csv','r',encoding='utf-8')\n",
    "fw = open('winequality-red_new.csv','w',encoding='utf-8')\n",
    "f = fr.readlines()\n",
    "for line in f:\n",
    "    line = line.replace(';',',')\n",
    "    fw.write(line)\n",
    "fr.close()\n",
    "fw.close()"
   ]
  },
  {
   "cell_type": "code",
   "execution_count": 17,
   "metadata": {},
   "outputs": [
    {
     "name": "stdout",
     "output_type": "stream",
     "text": [
      "[[  1  30]\n",
      " [  0 769]]\n",
      "              precision    recall  f1-score   support\n",
      "\n",
      "           0       1.00      0.03      0.06        31\n",
      "           1       0.96      1.00      0.98       769\n",
      "\n",
      "    accuracy                           0.96       800\n",
      "   macro avg       0.98      0.52      0.52       800\n",
      "weighted avg       0.96      0.96      0.95       800\n",
      "\n",
      "[[ 0.05601887 -2.99083406  0.20665413 -0.02528549 -0.50099649 -0.03814069\n",
      "   0.02600203  0.25947634 -0.34130211  0.14370906  0.44683548]]\n"
     ]
    }
   ],
   "source": [
    "import warnings\n",
    "warnings.filterwarnings(\"ignore\")\n",
    "import numpy as np\n",
    "import matplotlib.pyplot as plt\n",
    "import pandas as pd\n",
    "pd.set_option('display.max_rows',None)\n",
    "pd.set_option('max_colwidth',200)\n",
    "pd.set_option('expand_frame_repr', False)\n",
    "from sklearn import model_selection\n",
    "from sklearn.linear_model import LogisticRegression\n",
    "from sklearn import metrics\n",
    "\n",
    "dataset = pd.read_csv('winequality-red_new.csv')\n",
    "#数据预处理\n",
    "dataset['quality2'] = dataset['quality'].apply(lambda x: 0 if x < 5 else 1)    #新加入二分类变量是否为好酒，基于原数据中quality的值，其大于等于5就定义为好酒，反之坏酒\n",
    "X = dataset[['fixed acidity', 'volatile acidity', 'citric acid', 'residual sugar',\n",
    "       'chlorides', 'free sulfur dioxide', 'total sulfur dioxide', 'density',\n",
    "       'pH', 'sulphates', 'alcohol']]\n",
    "Y = dataset[\"quality2\"]\n",
    "#分割训练集和验证集\n",
    "X_train,X_test,Y_train,Y_test = model_selection.train_test_split(X,Y,test_size=0.5,random_state=0)\n",
    "#训练\n",
    "log_model = LogisticRegression()\n",
    "log_model.fit(X_train,Y_train)\n",
    "#验证\n",
    "Y_pred = log_model.predict(X_test)\n",
    "#汇总\n",
    "print(metrics.confusion_matrix(Y_test, Y_pred))\n",
    "print(metrics.classification_report(Y_test, Y_pred))\n",
    "print(log_model.coef_)"
   ]
  },
  {
   "cell_type": "code",
   "execution_count": 18,
   "metadata": {},
   "outputs": [
    {
     "name": "stdout",
     "output_type": "stream",
     "text": [
      "用10次10折交叉验证对率回归的精度是： 0.9044943820224719\n",
      "用留一法验证对率回归的精度是： 1.0\n"
     ]
    }
   ],
   "source": [
    "from sklearn.linear_model import LogisticRegression\n",
    "from sklearn import model_selection\n",
    "from sklearn.datasets import load_wine\n",
    "\n",
    "# 载入wine数据\n",
    "dataset = load_wine()\n",
    "#10次10折交叉验证法生成训练集和测试集\n",
    "def tenfolds():\n",
    "    k = 0\n",
    "    truth = 0\n",
    "    while k < 10:\n",
    "        kf = model_selection.KFold(n_splits=10, random_state=None, shuffle=True) ## x_train:x_test=9:1　\n",
    "        for x_train_index, x_test_index in kf.split(dataset.data):\n",
    "            x_train = dataset.data[x_train_index]\n",
    "            y_train = dataset.target[x_train_index]\n",
    "            x_test = dataset.data[x_test_index]\n",
    "            y_test = dataset.target[x_test_index]\n",
    "\n",
    "        # 用对率回归进行训练，拟合数据\n",
    "        log_model = LogisticRegression()\n",
    "        log_model.fit(x_train, y_train)\n",
    "        # 用训练好的模型预测\n",
    "        y_pred = log_model.predict(x_test)\n",
    "        for i in range(len(x_test)):         #这里和留一法不同，是因为10折交叉验证的验证集是len(dataset.target)/10，验证集的预测集也是，都是一个列表，是一串数字，而留一法是一个数字\n",
    "            if y_pred[i] == y_test[i]:\n",
    "                truth += 1\n",
    "        k += 1\n",
    "    # 计算精度\n",
    "    accuracy = truth/(len(x_train)+len(x_test))  #accuracy = truth/len(dataset.target)\n",
    "    print(\"用10次10折交叉验证对率回归的精度是：\", accuracy)\n",
    "tenfolds()\n",
    "#留一法\n",
    "def leaveone():  ##每次从数据集中拿出１例作为测试集　共测试len(dataset.target)次\n",
    "    loo = model_selection.LeaveOneOut()\n",
    "    i = 0\n",
    "    true = 0\n",
    "    while i < len(dataset.target):   \n",
    "        for x_train_index, x_test_index in loo.split(dataset.data):\n",
    "            x_train = dataset.data[x_train_index]\n",
    "            y_train = dataset.target[x_train_index]\n",
    "            x_test = dataset.data[x_test_index]\n",
    "            y_test = dataset.target[x_test_index]\n",
    "\n",
    "        # 用对率回归进行训练，拟合数据\n",
    "        log_model = LogisticRegression()\n",
    "        log_model.fit(x_train, y_train)\n",
    "        # 用训练好的模型预测\n",
    "        y_pred = log_model.predict(x_test)\n",
    "        if y_pred == y_test:\n",
    "            true += 1\n",
    "        i += 1\n",
    "    # 计算精度\n",
    "    accuracy = true / len(dataset.target)\n",
    "    print(\"用留一法验证对率回归的精度是：\", accuracy)\n",
    "leaveone()"
   ]
  },
  {
   "cell_type": "markdown",
   "metadata": {},
   "source": [
    "### ***3.5** 编程实现线性分别分析,并给出西瓜数据集3.0a上的结果\n"
   ]
  },
  {
   "cell_type": "markdown",
   "metadata": {},
   "source": [
    "```\n",
    "import numpy as np\n",
    "import pandas as pd\n",
    "import matplotlib.pyplot as plt\n",
    "from sklearn.discriminant_analysis import LinearDiscriminantAnalysis\n",
    "from sklearn import model_selection\n",
    "from sklearn import metrics\n",
    "\n",
    "dataset = pd.read_csv('/home/zwt/Desktop/watermelon3a.csv')\n",
    "#数据预处理\n",
    "X = dataset[['密度','含糖率']]\n",
    "Y = dataset['好瓜']\n",
    "#分割训练集和验证集\n",
    "X_train,X_test,Y_train,Y_test = model_selection.train_test_split(X,Y,test_size=0.5,random_state=0)\n",
    "#训练\n",
    "LDA_model = LinearDiscriminantAnalysis()\n",
    "LDA_model.fit(X_train,Y_train)\n",
    "#验证\n",
    "Y_pred = LDA_model.predict(X_test)\n",
    "#汇总\n",
    "print(metrics.confusion_matrix(Y_test, Y_pred))\n",
    "print(metrics.classification_report(Y_test, Y_pred, target_names=['Bad','Good']))\n",
    "print(LDA_model.coef_)\n",
    "#画图\n",
    "good_melon = dataset[dataset['好瓜'] == 1]\n",
    "bad_melon = dataset[dataset['好瓜'] == 0]\n",
    "plt.scatter(bad_melon['密度'],bad_melon['含糖率'],marker='o',color='r',s=100,label='bad')\n",
    "plt.scatter(good_melon['密度'],good_melon['含糖率'],marker='o',color='g',s=100,label='good')\n",
    "```"
   ]
  },
  {
   "cell_type": "code",
   "execution_count": 29,
   "metadata": {},
   "outputs": [
    {
     "data": {
      "image/png": "[encoded data removed]",
      "text/plain": [
       "<Figure size 432x288 with 1 Axes>"
      ]
     },
     "metadata": {
      "needs_background": "light"
     },
     "output_type": "display_data"
    }
   ],
   "source": [
    "import numpy as np\n",
    "import matplotlib.pyplot as plt\n",
    "data = [[0.697, 0.460, 1],\n",
    "        [0.774, 0.376, 1],\n",
    "        [0.634, 0.264, 1],\n",
    "        [0.608, 0.318, 1],\n",
    "        [0.556, 0.215, 1],\n",
    "        [0.403, 0.237, 1],\n",
    "        [0.481, 0.149, 1],\n",
    "        [0.437, 0.211, 1],\n",
    "        [0.666, 0.091, 0],\n",
    "        [0.243, 0.267, 0],\n",
    "        [0.245, 0.057, 0],\n",
    "        [0.343, 0.099, 0],\n",
    "        [0.639, 0.161, 0],\n",
    "        [0.657, 0.198, 0],\n",
    "        [0.360, 0.370, 0],\n",
    "        [0.593, 0.042, 0],\n",
    "        [0.719, 0.103, 0]]\n",
    "#数据集按瓜好坏分类\n",
    "data = np.array([i[:-1] for i in data])\n",
    "X0 = np.array(data[:8])\n",
    "X1 = np.array(data[8:])\n",
    "#求正反例均值\n",
    "miu0 = np.mean(X0, axis=0).reshape((-1, 1))\n",
    "miu1 = np.mean(X1, axis=0).reshape((-1, 1))\n",
    "#求协方差\n",
    "cov0 = np.cov(X0, rowvar=False)\n",
    "cov1 = np.cov(X1, rowvar=False)\n",
    "#求出w\n",
    "S_w = np.mat(cov0 + cov1)\n",
    "Omiga = S_w.I * (miu0 - miu1)\n",
    "#画出点、直线\n",
    "plt.scatter(X0[:, 0], X0[:, 1], c='b', label='+', marker = '+')\n",
    "plt.scatter(X1[:, 0], X1[:, 1], c='r', label='-', marker = '_')\n",
    "plt.plot([0, 1], [0, -Omiga[0] / Omiga[1]], label='y')\n",
    "plt.xlabel('density',  fontsize=15, color='green');\n",
    "plt.ylabel('sugar', fontsize=15, color='green');\n",
    "plt.title(r'LinearDiscriminantAnalysis', fontproperties='SimHei', fontsize=25);\n",
    "plt.legend()\n",
    "plt.show()"
   ]
  },
  {
   "cell_type": "markdown",
   "metadata": {},
   "source": [
    "### ***3.6***  线性判别在线性可分数据上能获得理想结果，试设计一个改进方法，使其能较好地用于非线性可分数据"
   ]
  },
  {
   "cell_type": "markdown",
   "metadata": {},
   "source": [
    "对于非线性可分的数据，要想使用判别分析，一般思想是将其映射到更高维的空间上，使它在高维空间上线性可分进一步使用判别分析。"
   ]
  },
  {
   "cell_type": "markdown",
   "metadata": {},
   "source": [
    "### ***3.8***  ECOC编码能够起到理想纠错作用的重要条件是:在每一位编码上出错的概率相当且独立．试分析多分类任务经ECOC编码后产生的二分类器满足该条件的可能性及由此产生的影响"
   ]
  },
  {
   "cell_type": "markdown",
   "metadata": {},
   "source": [
    "理论上的(纠错输出码)ECOC码能理想纠错的重要条件是每个码位出错的概率相当，因为如果某个码位的错误率很高，会导致这位始终保持相同的结果，不再有分类作用，这就相当于全0或者全 1的分类器。"
   ]
  },
  {
   "cell_type": "markdown",
   "metadata": {},
   "source": [
    "### ***3.9***  使用OVR和MvM将多分类任务分解为二分类任务求解时，试述为何无需专门针对类别不平衡性进行处理"
   ]
  },
  {
   "cell_type": "markdown",
   "metadata": {},
   "source": [
    "书中提到，对于OvR，MvM来说，由于对每个类进行了相同的处理，其拆解出的二分类任务中类别不平衡的影响会相互抵消，因此通常不需要专门处理。以ECOC编码为例，每个生成的二分类器会将所有样本分成较为均衡的二类，使类别不平衡的影响减小。当然拆解后仍然可能出现明显的类别不平衡现象，比如一个超级大类和一群小类。"
   ]
  },
  {
   "cell_type": "code",
   "execution_count": null,
   "metadata": {},
   "outputs": [],
   "source": []
  }
 ],
 "metadata": {
  "kernelspec": {
   "display_name": "Python 3",
   "language": "python",
   "name": "python3"
  },
  "language_info": {
   "codemirror_mode": {
    "name": "ipython",
    "version": 3
   },
   "file_extension": ".py",
   "mimetype": "text/x-python",
   "name": "python",
   "nbconvert_exporter": "python",
   "pygments_lexer": "ipython3",
   "version": "3.7.4"
  }
 },
 "nbformat": 4,
 "nbformat_minor": 4
}
