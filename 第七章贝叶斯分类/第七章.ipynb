{
 "cells": [
  {
   "cell_type": "markdown",
   "metadata": {},
   "source": [
    "### **7.1**：极大似然估计西瓜数据集3.0前3个属性的类条件概率。"
   ]
  },
  {
   "cell_type": "markdown",
   "metadata": {},
   "source": [
    "##### 极大似然法要先假定一种概率分布形式。\n",
    "##### 色泽：\n",
    "##### 对于好瓜，假设\n",
    "##### P(色泽=青绿|好瓜)=σ1σ1\n",
    "##### P(色泽=乌黑|好瓜)=σ2σ2\n",
    "##### P(色泽=浅白|好瓜)=σ3σ3=1−σ1−σ21−σ1−σ2\n",
    "##### L(σ)=⋂iP(色泽=xi|好瓜)=σ31σ42(1−σ1−σ2)L(σ)=⋂iP(色泽=xi|好瓜)=σ13σ24(1−σ1−σ2)\n",
    "##### L′(σ1)=σ42σ21(3−4σ1−3σ2)L′(σ1)=σ24σ12(3−4σ1−3σ2)\n",
    "##### L′(σ2)=σ31σ32(4−4σ1−5σ2)L′(σ2)=σ13σ23(4−4σ1−5σ2)\n",
    "##### 令L′(σ1)=0，L′(σ2)=0′(σ1)=0，L′(σ2)=0得σ1=38σ1=38，σ1=12σ1=12，σ3=18σ3=18\n",
    "##### 可以看出σ1,σ2,σ3σ1,σ2,σ3分别对应他们在样本中出现的频率。\n",
    "##### 对于坏瓜以及另外两种属性计算方式相同，得出类似的结果。"
   ]
  },
  {
   "cell_type": "markdown",
   "metadata": {},
   "source": [
    "### **7.2**试证明：条件独立性假设不成立时，朴素贝叶斯分类器任有可能产生最优分类器。"
   ]
  },
  {
   "cell_type": "markdown",
   "metadata": {},
   "source": [
    "### **7.3**试编程实现拉普拉斯修正的朴素贝叶斯分类器，并以西瓜数据集3.0为训练集，并对“测1”样本进行分类。"
   ]
  },
  {
   "cell_type": "code",
   "execution_count": 3,
   "metadata": {},
   "outputs": [
    {
     "name": "stdout",
     "output_type": "stream",
     "text": [
      "0.021801246405943567 4.9158340214165954e-05\n",
      "该西瓜是好瓜\n"
     ]
    }
   ],
   "source": [
    "from byes7_3 import main\n",
    "'''\n",
    "p(c|x)=(p(c)*p(c|x))/p(x)\n",
    "拉普拉斯修正：　p(c)=(|Dc|+1)/|D|+N                     Dc:样本属于c标记个数　N:表示样本可能的标记c类别数\n",
    "'''\n",
    "main()"
   ]
  },
  {
   "cell_type": "markdown",
   "metadata": {},
   "source": [
    "### **7.4**：连乘时属性值过多可能造成下溢，试述防止下溢的方案。\n",
    "方案一：对所有概率均取e指数，即是用 exp(P) 代替 P，此时就可以保证所有值均大于1，不会产生下溢问题。\n",
    "\n",
    "方案二：取对数。当然，考虑到正负号的问题，不能直接取对数，可以使用 ln(1+P) 来代替 P。\n",
    "\n",
    "方案三：还可以在连乘的过程中，当数据值小于预先设定的界限后，人为地对每一类的概率同时乘上一个相同的数值，防止下                    溢。\n",
    "\n",
    "方案四：也可以直接取对数后，将连乘运算变成累加运算进行。"
   ]
  },
  {
   "cell_type": "markdown",
   "metadata": {},
   "source": [
    "### **7.5** 试证明:二分类任务中两类数据满足高斯分布且方差相同时，线性判别分析产生最优贝叶斯分类器。\n",
    "假设1类样本均值为u1u1，2类样本均值为u2u2\n",
    "由于数据满足同方差的高斯分布，当样本足够大时，可以认为\n",
    "\n",
    "线性判别分析公式J=|wT(u1−u2)|2wT(Σ1+Σ2)wJ=|wT(u1−u2)|2wT(Σ1+Σ2)w求最大值\n",
    "对1J=wT(Σ1+Σ2)w|wT(u1−u2)|2=∑i(1−yi)|wT(xi−u1)|2+yi|wT(xi−u2)|2|wT(u1−u2)|21J=wT(Σ1+Σ2)w|wT(u1−u2)|2=∑i(1−yi)|wT(xi−u1)|2+yi|wT(xi−u2)|2|wT(u1−u2)|2求最小值\n",
    "\n",
    "最优贝叶斯分类器使每个训练样本的后验概率P(c|x)P(c|x)最大，对应线性判别分析中，即离对应分类的中心距离(平方)除以两个分类中心的距离(平方)越小。\n",
    "即求∑i(1−yi)|wT(xi−u1)|2+yi|wT(xi−u2)|2|wT(u1−u2)|2的最小值∑i(1−yi)|wT(xi−u1)|2+yi|wT(xi−u2)|2|wT(u1−u2)|2的最小值\n",
    "两个式子相同，所以线性判别分析产生最优贝叶斯分类器。"
   ]
  },
  {
   "cell_type": "markdown",
   "metadata": {},
   "source": [
    "### **7.6**：编程实现AODE分类器，并以西瓜数据集3.0为训练集，对‘测1‘进行判别"
   ]
  },
  {
   "cell_type": "code",
   "execution_count": 1,
   "metadata": {},
   "outputs": [
    {
     "name": "stdout",
     "output_type": "stream",
     "text": [
      "0.01867093430879439 0.00040009144947416545\n",
      "该西瓜是好瓜\n"
     ]
    }
   ],
   "source": [
    "from byes7_6 import main\n",
    "'''\n",
    "将每个属性作为超父构建SPODE，故d个属性就有d个SPODE的式子相加\n",
    "'''\n",
    "main()"
   ]
  },
  {
   "cell_type": "markdown",
   "metadata": {},
   "source": []
  }
 ],
 "metadata": {
  "kernelspec": {
   "display_name": "Python 3",
   "language": "python",
   "name": "python3"
  },
  "language_info": {
   "codemirror_mode": {
    "name": "ipython",
    "version": 3
   },
   "file_extension": ".py",
   "mimetype": "text/x-python",
   "name": "python",
   "nbconvert_exporter": "python",
   "pygments_lexer": "ipython3",
   "version": "3.7.4"
  }
 },
 "nbformat": 4,
 "nbformat_minor": 4
}
